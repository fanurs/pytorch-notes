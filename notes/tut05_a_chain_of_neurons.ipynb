{
  "nbformat": 4,
  "nbformat_minor": 0,
  "metadata": {
    "colab": {
      "provenance": [],
      "toc_visible": true,
      "authorship_tag": "ABX9TyNVDnYPKPq9mx4NvF9ab+Ri",
      "include_colab_link": true
    },
    "kernelspec": {
      "name": "python3",
      "display_name": "Python 3"
    },
    "language_info": {
      "name": "python"
    }
  },
  "cells": [
    {
      "cell_type": "markdown",
      "metadata": {
        "id": "view-in-github",
        "colab_type": "text"
      },
      "source": [
        "<a href=\"https://colab.research.google.com/github/fanurs/pytorch-notes/blob/main/notes/tut05_a_chain_of_neurons.ipynb\" target=\"_parent\"><img src=\"https://colab.research.google.com/assets/colab-badge.svg\" alt=\"Open In Colab\"/></a>"
      ]
    },
    {
      "cell_type": "code",
      "source": [
        "import matplotlib.pyplot as plt\n",
        "import torch as th"
      ],
      "metadata": {
        "id": "df5XTCiPlOjv"
      },
      "execution_count": 1,
      "outputs": []
    },
    {
      "cell_type": "markdown",
      "source": [
        "# The simplest network - a 1D chain of neurons"
      ],
      "metadata": {
        "id": "MUNQaW0oIKIj"
      }
    },
    {
      "cell_type": "markdown",
      "source": [
        "An artificial neural network (ANN) is made up of many artificial neurons. Artificial neurons are inspired from biological neurons. We shall use $a$ with appropriate subscripts or superscripts to denote artificial neurons in this tutorial. The adjective \"artificial\" will be dropped from now on."
      ],
      "metadata": {
        "id": "ukk5Mu96N8sa"
      }
    },
    {
      "cell_type": "markdown",
      "source": [
        "## Neurons"
      ],
      "metadata": {
        "id": "MgN66HI5c6XK"
      }
    },
    {
      "cell_type": "markdown",
      "source": [
        "Artificial neurons can be better understood by considering a network of them. We will start with a one-dimensional chain of neurons,\n",
        "$$a_0\\rightarrow a_1\\rightarrow a_2\\rightarrow \\cdots \\rightarrow a_n \\ . $$\n",
        "The first neuron $a_0$ is called the \"input neuron\"; the last neuron $a_n$ is called the \"output neuron\". All the other neurons are called the \"hidden neurons\" because if we encapsulate the entire chain of network into a black box, then only the input neuron and the output neuron are visible externally."
      ],
      "metadata": {
        "id": "gd_CqwSrQJfQ"
      }
    },
    {
      "cell_type": "markdown",
      "source": [
        "## Weights"
      ],
      "metadata": {
        "id": "a56HEsJTcri3"
      }
    },
    {
      "cell_type": "markdown",
      "source": [
        "We can use graph to describe a neural network. A graph consists of nodes (neurons) and edges. In this example, all edges are directional. On each edge, there is a weight $w_{i, i-1}\\in\\mathbb{R}$ associated with it:\n",
        "$$ a_0 \\xrightarrow{w_{10}} a_1 \\xrightarrow{w_{21}} a_2 \\xrightarrow{w_{32}} \\cdots \\xrightarrow{w_{n, n-1}} a_n \\ . $$"
      ],
      "metadata": {
        "id": "EV0SNN45T4Vc"
      }
    },
    {
      "cell_type": "markdown",
      "source": [
        "## Activation function"
      ],
      "metadata": {
        "id": "1w7dJIxdc_Vl"
      }
    },
    {
      "cell_type": "markdown",
      "source": [
        "The network we have just constructed is a \"_feedforward neural network_\", in which information fed to the input neuron(s) will be propagated forward successively until the output neuron(s). All neurons, except the input neurons, take the outputs from their predecessors as inputs. Mathematically, we have $ a_i = w_{i, i-1}\\cdot a_{i-1} $ for all $i = 1, \\ldots, n$. But this is not very useful from past experience. To better simulate a biological neuron, we usually do\n",
        "$$ a_i = g(w_{i, i-1}\\cdot a_{i-1}) \\ , $$\n",
        "where $g$ is an \"_activation function_\". An activation function _typcally_ has to satisfy both conditions:\n",
        "1. Defined for all real numbers.\n",
        "2. Monotonically increasing over $\\mathbb{R}$.\n",
        "\n",
        "One popular choice is the sigmoid function,\n",
        "$$ \\sigma(x) = \\frac{1}{1 + e^{-x}} \\ . $$"
      ],
      "metadata": {
        "id": "6khcHm9zdj9g"
      }
    },
    {
      "cell_type": "code",
      "source": [
        "x = th.linspace(-10, 10, 100)\n",
        "y = 1 / (1 + th.exp(-x))\n",
        "plt.plot(x, y)\n",
        "plt.show()"
      ],
      "metadata": {
        "colab": {
          "base_uri": "https://localhost:8080/",
          "height": 265
        },
        "id": "bogHYWgylNQT",
        "outputId": "c18dfbdb-929b-41e9-c5e4-af9b6eb12a3d"
      },
      "execution_count": 2,
      "outputs": [
        {
          "output_type": "display_data",
          "data": {
            "text/plain": [
              "<Figure size 432x288 with 1 Axes>"
            ],
            "image/png": "[encoded data removed]"
          },
          "metadata": {
            "needs_background": "light"
          }
        }
      ]
    },
    {
      "cell_type": "markdown",
      "source": [
        "The intuitive justification for a sigmoid function is that when the input $x$ is much smaller than zero, the output will be close to zero, emulating an inactive state. On the other hand, if $x$ is much larger than zero, the output will be close to one, emulating an active state. Mathematically, an activation function introduces non-linearity to the neural network, making it possible to act as a \"[_universal approximator_](https://en.wikipedia.org/wiki/Universal_approximation_theorem)\"."
      ],
      "metadata": {
        "id": "JvOv3KBBmgOR"
      }
    },
    {
      "cell_type": "markdown",
      "source": [
        "## Bias"
      ],
      "metadata": {
        "id": "aYte9DTSoeVz"
      }
    },
    {
      "cell_type": "markdown",
      "source": [
        "Most activation functions have their active-inactive switching points around zero. But this may not be the ideal point to switch in various problems. To add an extra degree of freedom, we introduce \"_bias_\" $b_i$, such that\n",
        "$$ a_i = g(w_{i, i-1}\\cdot a_{i-1} + b_i) \\ . $$\n",
        "This is the final iterative expression for our first simple neural network."
      ],
      "metadata": {
        "id": "r6OErheIofrm"
      }
    },
    {
      "cell_type": "markdown",
      "source": [
        "# Two-class classification"
      ],
      "metadata": {
        "id": "3wzUO2qvsp2q"
      }
    },
    {
      "cell_type": "markdown",
      "source": [
        "Let us construct the chain from scratch, and use it to perform some simple two-class classification.\n",
        "\n",
        "This is going to be an easy problem, so we will just use two neurons, an input neuron $a_0$ and an output neuron $a_1$, with\n",
        "$$ a_1 = \\sigma(w\\cdot a_0 + b) \\ . $$\n",
        "Notice that both $w$ and $b$ have no subscripts because there are only one for each of them. We have also chosen the sigmoid function as our activation function."
      ],
      "metadata": {
        "id": "QbKVnqHetIwK"
      }
    },
    {
      "cell_type": "code",
      "source": [
        "def sigmoid(x):\n",
        "    return 1 / (1 + th.exp(-x))\n",
        "\n",
        "def network(x, w, b):\n",
        "    return sigmoid(w * x + b)"
      ],
      "metadata": {
        "id": "4c4ms8HMuouO"
      },
      "execution_count": 3,
      "outputs": []
    },
    {
      "cell_type": "markdown",
      "source": [
        "The problem we would like to solve is to make this network to classify real numbers from $[0, 100]$ into two classes:\n",
        "1. If $x\\in[0, 60)$, we assign $x$ to class $0$.\n",
        "1. If $x\\in[60, 100]$, we assign $x$ to class $1$."
      ],
      "metadata": {
        "id": "P2_WsEpwt5E0"
      }
    },
    {
      "cell_type": "markdown",
      "source": [
        "First, we prepare 1000 training data:"
      ],
      "metadata": {
        "id": "UypBOVfi83kd"
      }
    },
    {
      "cell_type": "code",
      "source": [
        "n_train = 1000\n",
        "x_train = th.rand(size=(n_train,)) * 100\n",
        "y_train = (x_train >= 60) * 1.0"
      ],
      "metadata": {
        "id": "ddTsW1wYtZAG"
      },
      "execution_count": 4,
      "outputs": []
    },
    {
      "cell_type": "markdown",
      "source": [
        "Next, we define the optimizer."
      ],
      "metadata": {
        "id": "3HqPO9bt8-SM"
      }
    },
    {
      "cell_type": "code",
      "source": [
        "params = th.tensor([1.0, 0.0], requires_grad=True) # [weight, bias]\n",
        "optimizer = th.optim.Adam([params], lr=0.1)"
      ],
      "metadata": {
        "id": "uqP5BXiO81qK"
      },
      "execution_count": 5,
      "outputs": []
    },
    {
      "cell_type": "markdown",
      "source": [
        "We then train the network for 500 epochs."
      ],
      "metadata": {
        "id": "Dv7BDAFJ9fLh"
      }
    },
    {
      "cell_type": "code",
      "source": [
        "for _ in range(500):\n",
        "    logits = network(x_train, params[0], params[1])\n",
        "    loss = th.sum((logits - y_train)**2)\n",
        "    optimizer.zero_grad()\n",
        "    loss.backward()\n",
        "    optimizer.step()"
      ],
      "metadata": {
        "id": "dXgFjFZM9Dvc"
      },
      "execution_count": 6,
      "outputs": []
    },
    {
      "cell_type": "markdown",
      "source": [
        "The loss function we use is just ordinary least squares. Here, `logits` is used to denote the outputs from the `network()` function. In machine learning, `logits` means the _raw_ output from a neural network."
      ],
      "metadata": {
        "id": "miiIN0LY9msI"
      }
    },
    {
      "cell_type": "markdown",
      "source": [
        "## Interpreting the logits"
      ],
      "metadata": {
        "id": "g-zsNAFo-Vrs"
      }
    },
    {
      "cell_type": "markdown",
      "source": [
        "We have trained our first neural network. Let us inspect its logits below:"
      ],
      "metadata": {
        "id": "Fssh2Q7c_utF"
      }
    },
    {
      "cell_type": "code",
      "source": [
        "x_plt = th.linspace(0, 100, 1000)\n",
        "plt.plot(x_plt, network(x_plt, *params.detach()))\n",
        "plt.title('Trained network')\n",
        "plt.xlabel('x')\n",
        "plt.ylabel('logits')\n",
        "plt.show()"
      ],
      "metadata": {
        "colab": {
          "base_uri": "https://localhost:8080/",
          "height": 295
        },
        "id": "W3Oy1KB0_Yjf",
        "outputId": "a80ba1fe-193b-4b74-8cd4-268224fd6898"
      },
      "execution_count": 7,
      "outputs": [
        {
          "output_type": "display_data",
          "data": {
            "text/plain": [
              "<Figure size 432x288 with 1 Axes>"
            ],
            "image/png": "[encoded data removed]"
          },
          "metadata": {
            "needs_background": "light"
          }
        }
      ]
    },
    {
      "cell_type": "markdown",
      "source": [
        "In classification problems, the logits usually require some interpretation to obtain the predicted classes. For this problem, the logits are real numbers, whereas the classes are discrete - $0$ and $1$. A natural thought is to round the floating points of logits to either $0$ or $1$."
      ],
      "metadata": {
        "id": "jea6iDjS-tvN"
      }
    },
    {
      "cell_type": "code",
      "source": [
        "x_plt = th.linspace(0, 100, 1000)\n",
        "plt.plot(x_plt, network(x_plt, *params.detach()), color='black', label='logits')\n",
        "plt.plot(x_plt, th.round(network(x_plt, *params.detach())), color='green', label='rounded logits')\n",
        "plt.axvline(60, color='red', linestyle='dashed', label=r'$x = 60$')\n",
        "plt.title('Trained network')\n",
        "plt.xlabel('x')\n",
        "plt.legend()\n",
        "plt.show()"
      ],
      "metadata": {
        "colab": {
          "base_uri": "https://localhost:8080/",
          "height": 295
        },
        "id": "SHlw0dCtADo_",
        "outputId": "64bbc6de-3b7a-46f6-9c73-ad391964794b"
      },
      "execution_count": 8,
      "outputs": [
        {
          "output_type": "display_data",
          "data": {
            "text/plain": [
              "<Figure size 432x288 with 1 Axes>"
            ],
            "image/png": "[encoded data removed]"
          },
          "metadata": {
            "needs_background": "light"
          }
        }
      ]
    },
    {
      "cell_type": "markdown",
      "source": [
        "As we can see from the plot, the rounded logits have reproduced the classification line at $x = 60$ pretty close."
      ],
      "metadata": {
        "id": "6TeVXvSMAlFd"
      }
    },
    {
      "cell_type": "markdown",
      "source": [
        "## Remarks"
      ],
      "metadata": {
        "id": "8ExDmE4-A4p4"
      }
    },
    {
      "cell_type": "markdown",
      "source": [
        "This two-class classification example is really just a [logistic regression](https://en.wikipedia.org/wiki/Logistic_regression). To solve harder classification or regression problems, having just a single 1D chain of neurons is not enough. Starting from the next tutorial, we will explore some full-blown ANNs."
      ],
      "metadata": {
        "id": "m1a5kyZCA56I"
      }
    },
    {
      "cell_type": "markdown",
      "source": [
        "# References"
      ],
      "metadata": {
        "id": "kHSmH0-iOVu1"
      }
    },
    {
      "cell_type": "markdown",
      "source": [
        "- https://youtu.be/aircAruvnKk\n",
        "- https://en.wikipedia.org/wiki/Mathematics_of_artificial_neural_networks\n",
        "- https://en.wikipedia.org/wiki/Activation_function\n",
        "- https://en.wikipedia.org/wiki/Logistic_regression"
      ],
      "metadata": {
        "id": "4jBZGvP5OXEN"
      }
    }
  ]
}
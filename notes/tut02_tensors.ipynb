{
  "nbformat": 4,
  "nbformat_minor": 0,
  "metadata": {
    "colab": {
      "provenance": [],
      "authorship_tag": "ABX9TyNvlDQX7eUmuUv5dEZsMLSe",
      "include_colab_link": true
    },
    "kernelspec": {
      "name": "python3",
      "display_name": "Python 3"
    },
    "language_info": {
      "name": "python"
    },
    "accelerator": "GPU"
  },
  "cells": [
    {
      "cell_type": "markdown",
      "metadata": {
        "id": "view-in-github",
        "colab_type": "text"
      },
      "source": [
        "<a href=\"https://colab.research.google.com/github/fanurs/pytorch-notes/blob/main/notes/tut02_tensors.ipynb\" target=\"_parent\"><img src=\"https://colab.research.google.com/assets/colab-badge.svg\" alt=\"Open In Colab\"/></a>"
      ]
    },
    {
      "cell_type": "markdown",
      "source": [
        "> ❗_This tutorial uses GPU runtime._"
      ],
      "metadata": {
        "id": "p3lrBEWKtqc_"
      }
    },
    {
      "cell_type": "markdown",
      "source": [
        "# PyTorch tensors"
      ],
      "metadata": {
        "id": "vl0VN2kPZlhC"
      }
    },
    {
      "cell_type": "markdown",
      "source": [
        "If you are familiar with NumPy arrays, then PyTorch tensors are going to be very easy to learn. In this tutorial, we will use \"arrays\" to refer any NumPy arrays, and \"tensors\" to refer any PyTorch tensors."
      ],
      "metadata": {
        "id": "gGstyjNFZqxB"
      }
    },
    {
      "cell_type": "code",
      "execution_count": null,
      "metadata": {
        "id": "_49u5n2qZixw"
      },
      "outputs": [],
      "source": [
        "import numpy as np\n",
        "import torch as th"
      ]
    },
    {
      "cell_type": "markdown",
      "source": [
        "## Create an array / a tensor"
      ],
      "metadata": {
        "id": "c-sGbXcmaIQs"
      }
    },
    {
      "cell_type": "code",
      "source": [
        "x = np.array([2, 3, 5])\n",
        "y = th.tensor([2, 3, 5])\n",
        "display(x, y)"
      ],
      "metadata": {
        "id": "pRkKvUDgaGRJ"
      },
      "execution_count": null,
      "outputs": []
    },
    {
      "cell_type": "markdown",
      "source": [
        "## Creating a tensor from an array"
      ],
      "metadata": {
        "id": "Y7hexTXDaYuQ"
      }
    },
    {
      "cell_type": "code",
      "source": [
        "x = np.array([0.5, 0.25, 0.125])\n",
        "th.from_numpy(x)"
      ],
      "metadata": {
        "id": "oTcA8895aWhm"
      },
      "execution_count": null,
      "outputs": []
    },
    {
      "cell_type": "markdown",
      "source": [
        "## Converting a tensor into an array"
      ],
      "metadata": {
        "id": "fHV_IyjAa5Yt"
      }
    },
    {
      "cell_type": "code",
      "source": [
        "y = th.tensor([3.1, 3.14, 3.141])\n",
        "y.numpy()"
      ],
      "metadata": {
        "id": "nrZZmz39a1Y_"
      },
      "execution_count": null,
      "outputs": []
    },
    {
      "cell_type": "markdown",
      "source": [
        "## Slicing"
      ],
      "metadata": {
        "id": "9CsqwzkXvu_h"
      }
    },
    {
      "cell_type": "markdown",
      "source": [
        "Slicing of PyTorch tensors is the same as in NumPy arrays."
      ],
      "metadata": {
        "id": "Xgn6I_Wzv-Dh"
      }
    },
    {
      "cell_type": "code",
      "source": [
        "x = np.array([1, 10, 100, 1000])\n",
        "y = th.tensor([1, 10, 100, 1000])\n",
        "display(x[2:], y[2:])"
      ],
      "metadata": {
        "id": "OPuWNQxkvwhJ"
      },
      "execution_count": null,
      "outputs": []
    },
    {
      "cell_type": "markdown",
      "source": [
        "# Tensors on CPU and GPU"
      ],
      "metadata": {
        "id": "yp51OzuorTXB"
      }
    },
    {
      "cell_type": "markdown",
      "source": [
        "A tensor can either live in a CPU or GPU. Use the function `to()` to assign device, and `get_device()` to query the device that is being used."
      ],
      "metadata": {
        "id": "gyLahrATrXt8"
      }
    },
    {
      "cell_type": "code",
      "source": [
        "y = th.tensor([1.1, 2.22, 3.333])\n",
        "device = 'cuda' if th.cuda.is_available() else 'cpu'\n",
        "y = y.to(device)\n",
        "y.get_device()"
      ],
      "metadata": {
        "id": "x73jR9RVrS2V"
      },
      "execution_count": null,
      "outputs": []
    },
    {
      "cell_type": "markdown",
      "source": [
        "If you are using GPU runtime, you should see `y.get_device()` returns `0`. If you are using CPU runtime, you should see `-1`."
      ],
      "metadata": {
        "id": "SJ2VIpogtF-X"
      }
    },
    {
      "cell_type": "markdown",
      "source": [
        "If there are more than one GPU, you can specify the GPUs by `'cuda:0'`, `'cuda:1'`, and so on."
      ],
      "metadata": {
        "id": "ZEG6XRjJtYQ9"
      }
    },
    {
      "cell_type": "markdown",
      "source": [
        "When using GPU runtime, it is possible to store tensors on different processing units."
      ],
      "metadata": {
        "id": "oUBx750DuEek"
      }
    },
    {
      "cell_type": "code",
      "source": [
        "y_cpu = th.tensor([1, 3, 5], device='cpu')\n",
        "y_gpu = th.tensor([2, 4, 6], device='cuda')\n",
        "display(y_cpu.get_device(), y_gpu.get_device())"
      ],
      "metadata": {
        "id": "6JxHghbctnjC"
      },
      "execution_count": null,
      "outputs": []
    },
    {
      "cell_type": "markdown",
      "source": [
        "But we cannot perform operation between tensors from different processing units. The code cell below should give a `RuntimeError`:"
      ],
      "metadata": {
        "id": "oozQFd9HueAv"
      }
    },
    {
      "cell_type": "code",
      "source": [
        "y_cpu + y_gpu"
      ],
      "metadata": {
        "id": "s9mn9TriumCJ"
      },
      "execution_count": null,
      "outputs": []
    },
    {
      "cell_type": "markdown",
      "source": [
        "# Important differences between NumPy arrays and PyTorch tensors"
      ],
      "metadata": {
        "id": "olDdyQmcj4EP"
      }
    },
    {
      "cell_type": "markdown",
      "source": [
        "We are not going to go through all the functions that `pytorch.Tensor` supports. For that, you can always refer to the documentation page at https://pytorch.org/docs/stable/tensors.html. Instead, it is more interesting to talk about a few noteworthy distinctions between NumPy arrays and PyTorch tensors."
      ],
      "metadata": {
        "id": "O_ph9Vr-pHeO"
      }
    },
    {
      "cell_type": "markdown",
      "source": [
        "## Default data type"
      ],
      "metadata": {
        "id": "YHR9NwSCpd-v"
      }
    },
    {
      "cell_type": "markdown",
      "source": [
        "In NumPy, the default data type is `float64`. In PyTorch, the default data type is `float32`."
      ],
      "metadata": {
        "id": "kWVp_bGIp2zD"
      }
    },
    {
      "cell_type": "code",
      "source": [
        "display(np.array([]).dtype)\n",
        "display(th.tensor([]).dtype)"
      ],
      "metadata": {
        "id": "RtdYuk_EqMu8"
      },
      "execution_count": null,
      "outputs": []
    },
    {
      "cell_type": "markdown",
      "source": [
        "## Random module"
      ],
      "metadata": {
        "id": "RqgxlBtZqUxh"
      }
    },
    {
      "cell_type": "markdown",
      "source": [
        "In NumPy, we need the submodule [`numpy.random`](https://numpy.org/doc/stable/reference/random/index.html) to generate random numbers. In PyTorch, there is no submodule."
      ],
      "metadata": {
        "id": "3irZhFRZqn52"
      }
    },
    {
      "cell_type": "code",
      "source": [
        "np.random.seed(0)\n",
        "th.manual_seed(0)"
      ],
      "metadata": {
        "id": "4zyEKxddrDkI"
      },
      "execution_count": null,
      "outputs": []
    },
    {
      "cell_type": "code",
      "source": [
        "display(np.random.rand(2))\n",
        "display(th.rand(2))"
      ],
      "metadata": {
        "id": "XtzZmUEoq6c_"
      },
      "execution_count": null,
      "outputs": []
    },
    {
      "cell_type": "markdown",
      "source": [
        "# References"
      ],
      "metadata": {
        "id": "5l06KkKHo_jI"
      }
    },
    {
      "cell_type": "markdown",
      "source": [
        "- https://pytorch.org/docs/stable/tensors.html\n",
        "- https://pytorch.org/docs/stable/cuda.html"
      ],
      "metadata": {
        "id": "wxTNCSrRpBZJ"
      }
    }
  ]
}
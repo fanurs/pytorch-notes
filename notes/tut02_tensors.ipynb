{
  "nbformat": 4,
  "nbformat_minor": 0,
  "metadata": {
    "colab": {
      "provenance": [],
      "authorship_tag": "ABX9TyNvlDQX7eUmuUv5dEZsMLSe",
      "include_colab_link": true
    },
    "kernelspec": {
      "name": "python3",
      "display_name": "Python 3"
    },
    "language_info": {
      "name": "python"
    },
    "accelerator": "GPU"
  },
  "cells": [
    {
      "cell_type": "markdown",
      "metadata": {
        "id": "view-in-github",
        "colab_type": "text"
      },
      "source": [
        "<a href=\"https://colab.research.google.com/github/fanurs/pytorch-notes/blob/main/notes/tut02_tensors.ipynb\" target=\"_parent\"><img src=\"https://colab.research.google.com/assets/colab-badge.svg\" alt=\"Open In Colab\"/></a>"
      ]
    },
    {
      "cell_type": "markdown",
      "source": [
        "> ❗_This tutorial uses GPU runtime._"
      ],
      "metadata": {
        "id": "p3lrBEWKtqc_"
      }
    },
    {
      "cell_type": "markdown",
      "source": [
        "# PyTorch tensors"
      ],
      "metadata": {
        "id": "vl0VN2kPZlhC"
      }
    },
    {
      "cell_type": "markdown",
      "source": [
        "If you are familiar with NumPy arrays, then PyTorch tensors are going to be very easy to learn. In this tutorial, we will use \"arrays\" to refer any NumPy arrays, and \"tensors\" to refer any PyTorch tensors."
      ],
      "metadata": {
        "id": "gGstyjNFZqxB"
      }
    },
    {
      "cell_type": "code",
      "execution_count": 1,
      "metadata": {
        "id": "_49u5n2qZixw"
      },
      "outputs": [],
      "source": [
        "import numpy as np\n",
        "import torch as th"
      ]
    },
    {
      "cell_type": "markdown",
      "source": [
        "## Create an array / a tensor"
      ],
      "metadata": {
        "id": "c-sGbXcmaIQs"
      }
    },
    {
      "cell_type": "code",
      "source": [
        "x = np.array([2, 3, 5])\n",
        "y = th.tensor([2, 3, 5])\n",
        "display(x, y)"
      ],
      "metadata": {
        "id": "pRkKvUDgaGRJ",
        "outputId": "b6a26c1a-6ee2-4be9-cc8c-dbe9f93687e9",
        "colab": {
          "base_uri": "https://localhost:8080/",
          "height": 54
        }
      },
      "execution_count": 2,
      "outputs": [
        {
          "output_type": "display_data",
          "data": {
            "text/plain": [
              "array([2, 3, 5])"
            ]
          },
          "metadata": {}
        },
        {
          "output_type": "display_data",
          "data": {
            "text/plain": [
              "tensor([2, 3, 5])"
            ]
          },
          "metadata": {}
        }
      ]
    },
    {
      "cell_type": "markdown",
      "source": [
        "## Creating a tensor from an array"
      ],
      "metadata": {
        "id": "Y7hexTXDaYuQ"
      }
    },
    {
      "cell_type": "code",
      "source": [
        "x = np.array([0.5, 0.25, 0.125])\n",
        "th.from_numpy(x)"
      ],
      "metadata": {
        "id": "oTcA8895aWhm",
        "outputId": "e51b870d-76dc-43ad-b020-1719c25c0367",
        "colab": {
          "base_uri": "https://localhost:8080/"
        }
      },
      "execution_count": 3,
      "outputs": [
        {
          "output_type": "execute_result",
          "data": {
            "text/plain": [
              "tensor([0.5000, 0.2500, 0.1250], dtype=torch.float64)"
            ]
          },
          "metadata": {},
          "execution_count": 3
        }
      ]
    },
    {
      "cell_type": "markdown",
      "source": [
        "## Converting a tensor into an array"
      ],
      "metadata": {
        "id": "fHV_IyjAa5Yt"
      }
    },
    {
      "cell_type": "code",
      "source": [
        "y = th.tensor([3.1, 3.14, 3.141])\n",
        "y.numpy()"
      ],
      "metadata": {
        "id": "nrZZmz39a1Y_",
        "outputId": "492a3c37-2c7c-4d92-94c6-0d72c2c3b380",
        "colab": {
          "base_uri": "https://localhost:8080/"
        }
      },
      "execution_count": 4,
      "outputs": [
        {
          "output_type": "execute_result",
          "data": {
            "text/plain": [
              "array([3.1  , 3.14 , 3.141], dtype=float32)"
            ]
          },
          "metadata": {},
          "execution_count": 4
        }
      ]
    },
    {
      "cell_type": "markdown",
      "source": [
        "## Slicing"
      ],
      "metadata": {
        "id": "9CsqwzkXvu_h"
      }
    },
    {
      "cell_type": "markdown",
      "source": [
        "Slicing of PyTorch tensors is the same as in NumPy arrays."
      ],
      "metadata": {
        "id": "Xgn6I_Wzv-Dh"
      }
    },
    {
      "cell_type": "code",
      "source": [
        "x = np.array([1, 10, 100, 1000])\n",
        "y = th.tensor([1, 10, 100, 1000])\n",
        "display(x[2:], y[2:])"
      ],
      "metadata": {
        "id": "OPuWNQxkvwhJ",
        "outputId": "24c5afb1-6754-4105-d9d2-88a308861c3d",
        "colab": {
          "base_uri": "https://localhost:8080/",
          "height": 54
        }
      },
      "execution_count": 5,
      "outputs": [
        {
          "output_type": "display_data",
          "data": {
            "text/plain": [
              "array([ 100, 1000])"
            ]
          },
          "metadata": {}
        },
        {
          "output_type": "display_data",
          "data": {
            "text/plain": [
              "tensor([ 100, 1000])"
            ]
          },
          "metadata": {}
        }
      ]
    },
    {
      "cell_type": "markdown",
      "source": [
        "# Tensors on CPU and GPU"
      ],
      "metadata": {
        "id": "yp51OzuorTXB"
      }
    },
    {
      "cell_type": "markdown",
      "source": [
        "A tensor can either live in a CPU or GPU. Use the function `to()` to assign device, and `get_device()` to query the device that is being used."
      ],
      "metadata": {
        "id": "gyLahrATrXt8"
      }
    },
    {
      "cell_type": "code",
      "source": [
        "y = th.tensor([1.1, 2.22, 3.333])\n",
        "device = 'cuda' if th.cuda.is_available() else 'cpu'\n",
        "y = y.to(device)\n",
        "y.get_device()"
      ],
      "metadata": {
        "id": "x73jR9RVrS2V",
        "outputId": "63ce0293-fde8-455e-e0e2-0d0fcc259854",
        "colab": {
          "base_uri": "https://localhost:8080/"
        }
      },
      "execution_count": 6,
      "outputs": [
        {
          "output_type": "execute_result",
          "data": {
            "text/plain": [
              "0"
            ]
          },
          "metadata": {},
          "execution_count": 6
        }
      ]
    },
    {
      "cell_type": "markdown",
      "source": [
        "If you are using GPU runtime, you should see `y.get_device()` returns `0`. If you are using CPU runtime, you should see `-1`."
      ],
      "metadata": {
        "id": "SJ2VIpogtF-X"
      }
    },
    {
      "cell_type": "markdown",
      "source": [
        "If there are more than one GPU, you can specify the GPUs by `'cuda:0'`, `'cuda:1'`, and so on."
      ],
      "metadata": {
        "id": "ZEG6XRjJtYQ9"
      }
    },
    {
      "cell_type": "markdown",
      "source": [
        "When using GPU runtime, it is possible to store tensors on different processing units."
      ],
      "metadata": {
        "id": "oUBx750DuEek"
      }
    },
    {
      "cell_type": "code",
      "source": [
        "y_cpu = th.tensor([1, 3, 5], device='cpu')\n",
        "y_gpu = th.tensor([2, 4, 6], device='cuda')\n",
        "display(y_cpu.get_device(), y_gpu.get_device())"
      ],
      "metadata": {
        "id": "6JxHghbctnjC",
        "outputId": "68150a94-74f8-47ef-b25a-86be0ef65529",
        "colab": {
          "base_uri": "https://localhost:8080/",
          "height": 54
        }
      },
      "execution_count": 7,
      "outputs": [
        {
          "output_type": "display_data",
          "data": {
            "text/plain": [
              "-1"
            ]
          },
          "metadata": {}
        },
        {
          "output_type": "display_data",
          "data": {
            "text/plain": [
              "0"
            ]
          },
          "metadata": {}
        }
      ]
    },
    {
      "cell_type": "markdown",
      "source": [
        "But we cannot perform operation between tensors from different processing units. The code cell below should give a `RuntimeError`:"
      ],
      "metadata": {
        "id": "oozQFd9HueAv"
      }
    },
    {
      "cell_type": "code",
      "source": [
        "y_cpu + y_gpu"
      ],
      "metadata": {
        "id": "s9mn9TriumCJ",
        "outputId": "6792f5af-6478-4434-869d-e1a9bab45e80",
        "colab": {
          "base_uri": "https://localhost:8080/",
          "height": 171
        }
      },
      "execution_count": 8,
      "outputs": [
        {
          "output_type": "error",
          "ename": "RuntimeError",
          "evalue": "ignored",
          "traceback": [
            "\u001b[0;31m---------------------------------------------------------------------------\u001b[0m",
            "\u001b[0;31mRuntimeError\u001b[0m                              Traceback (most recent call last)",
            "\u001b[0;32m<ipython-input-8-c36e96c6808b>\u001b[0m in \u001b[0;36m<module>\u001b[0;34m\u001b[0m\n\u001b[0;32m----> 1\u001b[0;31m \u001b[0my_cpu\u001b[0m \u001b[0;34m+\u001b[0m \u001b[0my_gpu\u001b[0m\u001b[0;34m\u001b[0m\u001b[0;34m\u001b[0m\u001b[0m\n\u001b[0m",
            "\u001b[0;31mRuntimeError\u001b[0m: Expected all tensors to be on the same device, but found at least two devices, cuda:0 and cpu!"
          ]
        }
      ]
    },
    {
      "cell_type": "markdown",
      "source": [
        "# Important differences between NumPy arrays and PyTorch tensors"
      ],
      "metadata": {
        "id": "olDdyQmcj4EP"
      }
    },
    {
      "cell_type": "markdown",
      "source": [
        "We are not going to go through all the functions that `pytorch.Tensor` supports. For that, you can always refer to the documentation page at https://pytorch.org/docs/stable/tensors.html. Instead, it is more interesting to talk about a few noteworthy distinctions between NumPy arrays and PyTorch tensors."
      ],
      "metadata": {
        "id": "O_ph9Vr-pHeO"
      }
    },
    {
      "cell_type": "markdown",
      "source": [
        "## Default data type"
      ],
      "metadata": {
        "id": "YHR9NwSCpd-v"
      }
    },
    {
      "cell_type": "markdown",
      "source": [
        "In NumPy, the default data type is `float64`. In PyTorch, the default data type is `float32`."
      ],
      "metadata": {
        "id": "kWVp_bGIp2zD"
      }
    },
    {
      "cell_type": "code",
      "source": [
        "display(np.array([]).dtype)\n",
        "display(th.tensor([]).dtype)"
      ],
      "metadata": {
        "id": "RtdYuk_EqMu8",
        "outputId": "d6866ac4-1311-466c-ff84-983282372c92",
        "colab": {
          "base_uri": "https://localhost:8080/",
          "height": 54
        }
      },
      "execution_count": 9,
      "outputs": [
        {
          "output_type": "display_data",
          "data": {
            "text/plain": [
              "dtype('float64')"
            ]
          },
          "metadata": {}
        },
        {
          "output_type": "display_data",
          "data": {
            "text/plain": [
              "torch.float32"
            ]
          },
          "metadata": {}
        }
      ]
    },
    {
      "cell_type": "markdown",
      "source": [
        "## Random module"
      ],
      "metadata": {
        "id": "RqgxlBtZqUxh"
      }
    },
    {
      "cell_type": "markdown",
      "source": [
        "In NumPy, we need the submodule [`numpy.random`](https://numpy.org/doc/stable/reference/random/index.html) to generate random numbers. In PyTorch, there is no submodule."
      ],
      "metadata": {
        "id": "3irZhFRZqn52"
      }
    },
    {
      "cell_type": "code",
      "source": [
        "np.random.seed(0)\n",
        "th.manual_seed(0)"
      ],
      "metadata": {
        "id": "4zyEKxddrDkI",
        "outputId": "708881a7-e1e5-4d07-a0db-3b8efc558f0c",
        "colab": {
          "base_uri": "https://localhost:8080/"
        }
      },
      "execution_count": 10,
      "outputs": [
        {
          "output_type": "execute_result",
          "data": {
            "text/plain": [
              "<torch._C.Generator at 0x7f191d5587d0>"
            ]
          },
          "metadata": {},
          "execution_count": 10
        }
      ]
    },
    {
      "cell_type": "code",
      "source": [
        "display(np.random.rand(2))\n",
        "display(th.rand(2))"
      ],
      "metadata": {
        "id": "XtzZmUEoq6c_",
        "outputId": "d29cf136-1197-4e8d-d3a0-07e39f3c2294",
        "colab": {
          "base_uri": "https://localhost:8080/",
          "height": 54
        }
      },
      "execution_count": 11,
      "outputs": [
        {
          "output_type": "display_data",
          "data": {
            "text/plain": [
              "array([0.5488135 , 0.71518937])"
            ]
          },
          "metadata": {}
        },
        {
          "output_type": "display_data",
          "data": {
            "text/plain": [
              "tensor([0.4963, 0.7682])"
            ]
          },
          "metadata": {}
        }
      ]
    },
    {
      "cell_type": "markdown",
      "source": [
        "# References"
      ],
      "metadata": {
        "id": "5l06KkKHo_jI"
      }
    },
    {
      "cell_type": "markdown",
      "source": [
        "- https://pytorch.org/docs/stable/tensors.html\n",
        "- https://pytorch.org/docs/stable/cuda.html"
      ],
      "metadata": {
        "id": "wxTNCSrRpBZJ"
      }
    }
  ]
}